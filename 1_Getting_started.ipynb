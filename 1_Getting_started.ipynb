{
 "cells": [
  {
   "cell_type": "code",
   "execution_count": 1,
   "id": "0eb3e2a1",
   "metadata": {},
   "outputs": [
    {
     "name": "stdout",
     "output_type": "stream",
     "text": [
      "Hello\n"
     ]
    }
   ],
   "source": [
    "print(\"Hello\")"
   ]
  },
  {
   "cell_type": "code",
   "execution_count": 8,
   "id": "81acd84e",
   "metadata": {},
   "outputs": [
    {
     "name": "stdout",
     "output_type": "stream",
     "text": [
      "Here is some introductory maths:\n",
      "\n",
      "Variable 1 times Variable 2 equals:\n",
      "105\n"
     ]
    }
   ],
   "source": [
    "# This is a comment - python does not read it\n",
    "print(\"Here is some introductory maths:\")\n",
    "\n",
    "# We assign the numbers 7 and 15 to variable1 and variable2\n",
    "variable1 = 7\n",
    "variable2 = 15\n",
    "\n",
    "print(\"\\nVariable 1 times Variable 2 equals:\")\n",
    "\n",
    "# We print out variable1 * variable2\n",
    "print(variable1 * variable2)"
   ]
  },
  {
   "cell_type": "code",
   "execution_count": null,
   "id": "ca8ee94b",
   "metadata": {},
   "outputs": [],
   "source": []
  }
 ],
 "metadata": {
  "kernelspec": {
   "display_name": "Python 3",
   "language": "python",
   "name": "python3"
  },
  "language_info": {
   "codemirror_mode": {
    "name": "ipython",
    "version": 3
   },
   "file_extension": ".py",
   "mimetype": "text/x-python",
   "name": "python",
   "nbconvert_exporter": "python",
   "pygments_lexer": "ipython3",
   "version": "3.8.3"
  }
 },
 "nbformat": 4,
 "nbformat_minor": 5
}
